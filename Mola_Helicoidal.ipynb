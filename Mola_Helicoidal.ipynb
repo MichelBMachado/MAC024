{
  "nbformat": 4,
  "nbformat_minor": 0,
  "metadata": {
    "colab": {
      "name": "Mola_Helicoidal.ipynb",
      "provenance": [],
      "authorship_tag": "ABX9TyN3/UJlDGh3q5I9T2Ivyi0K",
      "include_colab_link": true
    },
    "kernelspec": {
      "name": "python3",
      "display_name": "Python 3"
    }
  },
  "cells": [
    {
      "cell_type": "markdown",
      "metadata": {
        "id": "view-in-github",
        "colab_type": "text"
      },
      "source": [
        "<a href=\"https://colab.research.google.com/github/MichelBMachado/MAC024/blob/main/Mola_Helicoidal.ipynb\" target=\"_parent\"><img src=\"https://colab.research.google.com/assets/colab-badge.svg\" alt=\"Open In Colab\"/></a>"
      ]
    },
    {
      "cell_type": "markdown",
      "metadata": {
        "id": "XOJ1PjZkWXs4"
      },
      "source": [
        "Considere uma linha fabril que produz molas helicoidais. Devido a problemas\n",
        "de desgaste das maquinas envolvidas na produção e fatores humanos, os componentes são produzidos dentro dos seguintes limites de variação. O diametro externo varia uniformemente em torno de D = 80 ± 3 mm. Os seguintes parametros tem variação com distribuição normal como segue: d = 20 ± 1 mm, α = 15 ± 2 graus e n = 10 espiras. O material fornecido apresenta as seguintes variações (com distribuição normal): E = 200±3 GPa e G = 80±1 GPa.\n",
        "Forneça um grafico com a variação do deslocamento da mola, mostrando sua media e desvio padrão, sabendo que as carga de serviço maxima é 10.5 kN. Para\n",
        "uma carga de 9.2 kN, qual a probabilidade de falha da mola sabendo que a tensão limite do material e 600 MPa."
      ]
    },
    {
      "cell_type": "markdown",
      "metadata": {
        "id": "V6FK_CnoYwN-"
      },
      "source": [
        "D = 80 ± 3 mm\n",
        "\n",
        "d = 20 ± 1 mm\n",
        "\n",
        "$\\alpha$ = 15 ± 2 graus\n",
        "\n",
        "E = 200 ± 3 GPa\n",
        "\n",
        "G = 80 ± 1 GPa\n",
        "\n",
        "n = 10 espiras \n",
        "\n",
        "$\\sigma_{lim}$ = 600 MPa\n",
        "\n",
        "P = 10,5 kN\n"
      ]
    },
    {
      "cell_type": "code",
      "metadata": {
        "id": "pdkSX87nYeMT"
      },
      "source": [
        "import numpy as np\n",
        "import pylab as pl\n",
        "import math as mt"
      ],
      "execution_count": null,
      "outputs": []
    },
    {
      "cell_type": "markdown",
      "metadata": {
        "id": "if1aG2ych2G3"
      },
      "source": [
        "### Deslocamento da mola"
      ]
    },
    {
      "cell_type": "code",
      "metadata": {
        "id": "opt1oi1QliQS"
      },
      "source": [
        "def calcula_delta(P, D, d, n, alpha):                             #Função para o cálculo do deslocamento\n",
        "\n",
        "  delta = ((8*P*n*D**3)/(np.cos(alpha)*(d**4)))*(((2 + d**2/(2*D**2))*(np.sin(alpha)**2)/E) + ((1 + (d**2/2*D**2))*(np.cos(alpha)**2)/(E*G)))\n",
        "  return delta"
      ],
      "execution_count": null,
      "outputs": []
    },
    {
      "cell_type": "code",
      "metadata": {
        "id": "c1yOlOQ2gTUO",
        "colab": {
          "base_uri": "https://localhost:8080/",
          "height": 314
        },
        "outputId": "5f39c1a8-58a1-4653-b448-282295a62751"
      },
      "source": [
        "N = 100000\n",
        "\n",
        "D = np.random.normal(loc = 0.08, scale = 0.003, size = N)\n",
        "d = np.random.normal(loc = 0.02, scale = 0.001, size = N)\n",
        "alpha = np.random.normal(loc = np.pi/12, scale = np.pi/90, size = N)\n",
        "E = np.random.normal(loc = 80e9, scale = 1e9, size = N)\n",
        "G = np.random.normal(loc = 200e9, scale = 3e9, size = N)\n",
        "n = 10\n",
        "P = 10.5e3\n",
        "\n",
        "delta = calcula_delta(P,D,d,n,alpha)\n",
        "\n",
        "\n",
        "pl.hist(delta)\n",
        "pl.title('Deslocamento')\n",
        "pl.show()\n",
        "print(\"A média do deslocamento é:\", np.mean(delta))\n",
        "print(\"O desvio padrão do deslocamento é:\", np.std(delta))\n"
      ],
      "execution_count": null,
      "outputs": [
        {
          "output_type": "display_data",
          "data": {
            "image/png": "[encoded data removed]",
            "text/plain": [
              "<Figure size 432x288 with 1 Axes>"
            ]
          },
          "metadata": {
            "tags": [],
            "needs_background": "light"
          }
        },
        {
          "output_type": "stream",
          "text": [
            "A média do deslocamento é: 0.00497544390109856\n",
            "O desvio padrão do deslocamento é: 0.0017963474066250709\n"
          ],
          "name": "stdout"
        }
      ]
    },
    {
      "cell_type": "markdown",
      "metadata": {
        "id": "on9z8QRYf0eJ"
      },
      "source": [
        "### Probabilidade de falha da mola"
      ]
    },
    {
      "cell_type": "code",
      "metadata": {
        "id": "VVgPhBlRkBY6"
      },
      "source": [
        "def calcula_sigma(P, D, alpha):                                   #Função para o cálculo da tensão normal \n",
        "\n",
        "  sigma = (16*P*D/(np.pi*d**3))*(1 + d/(4*D))*np.sin(alpha) \n",
        "  return sigma"
      ],
      "execution_count": null,
      "outputs": []
    },
    {
      "cell_type": "code",
      "metadata": {
        "id": "ZqxUXEQkkaNj"
      },
      "source": [
        "def calcula_tau(P, D, alpha):                                     #Função para o cálculo da tensão cisalhante\n",
        "\n",
        "  tau = (8*P*D/(np.pi*d**3))*(1 + d/(2*D))*np.cos(alpha)\n",
        "  return tau     "
      ],
      "execution_count": null,
      "outputs": []
    },
    {
      "cell_type": "code",
      "metadata": {
        "id": "RanvOwAQYSma",
        "colab": {
          "base_uri": "https://localhost:8080/"
        },
        "outputId": "621ba0cc-ed66-41d7-d93f-591b74a89cc3"
      },
      "source": [
        "P = 9.2e3                                 #Carregamento aplicado à mola\n",
        "sigma_lim = 600e6                         #Tensão limite do material\n",
        "sigma = calcula_sigma(P, D, alpha)        \n",
        "tau = calcula_tau(P, D, alpha)\n",
        "k = 0                                     #Quantidade de eventos cujas tensões internas ultrapassaram a tensão limite\n",
        "\n",
        "for i in range(N):\n",
        "  if (sigma[i]**2 + 4*(tau[i]**2))**(1/2) >= sigma_lim:\n",
        "    k += 1\n",
        "\n",
        "print(\"Probabilidade de falha da mola:\", k/N*100,\"%\")\n",
        "\n",
        "\n"
      ],
      "execution_count": null,
      "outputs": [
        {
          "output_type": "stream",
          "text": [
            "Probabilidade de falha da mola: 19.6 %\n"
          ],
          "name": "stdout"
        }
      ]
    }
  ]
}